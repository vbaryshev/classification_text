{
 "cells": [
  {
   "cell_type": "code",
   "execution_count": 1,
   "id": "6b230b7b-c335-4cd6-9e5b-a34bd0fd9d40",
   "metadata": {},
   "outputs": [],
   "source": [
    "import pandas as pd"
   ]
  },
  {
   "cell_type": "code",
   "execution_count": 8,
   "id": "9dbeacbd-c21e-4d64-aaf3-a213b8efb610",
   "metadata": {},
   "outputs": [],
   "source": [
    "data_1 = pd.read_csv('./data/1.csv')"
   ]
  },
  {
   "cell_type": "code",
   "execution_count": 9,
   "id": "6d419dc3-6941-4089-b700-2d69b1ac8bd6",
   "metadata": {},
   "outputs": [],
   "source": [
    "data_2 = pd.read_csv('./data/2.csv')"
   ]
  },
  {
   "cell_type": "code",
   "execution_count": 10,
   "id": "11d05925-26c3-47e9-8e50-17517837b03d",
   "metadata": {},
   "outputs": [],
   "source": [
    "data_3 = pd.read_csv('./data/3.csv')"
   ]
  },
  {
   "cell_type": "code",
   "execution_count": 11,
   "id": "4e431c0c-4c6a-4718-b1ce-139abfd0f449",
   "metadata": {},
   "outputs": [],
   "source": [
    "data_4 = pd.read_csv('./data/4.csv')"
   ]
  },
  {
   "cell_type": "code",
   "execution_count": 12,
   "id": "2ff3f4f6-4051-4afa-9d5f-1677c19f81dd",
   "metadata": {},
   "outputs": [],
   "source": [
    "data_5 = pd.read_csv('./data/5.csv')"
   ]
  },
  {
   "cell_type": "code",
   "execution_count": 13,
   "id": "37311402-7e0a-4054-8f84-c1769e8a4fef",
   "metadata": {},
   "outputs": [],
   "source": [
    "data_6 = pd.read_csv('./data/6.csv')"
   ]
  },
  {
   "cell_type": "code",
   "execution_count": 15,
   "id": "6a6c815a-45dd-4989-87c3-d9d0d3bf0834",
   "metadata": {},
   "outputs": [],
   "source": [
    "data_1['type'] = 'spam'"
   ]
  },
  {
   "cell_type": "code",
   "execution_count": 16,
   "id": "3d2c91dd-171d-4476-931b-fe4bcf37f6ab",
   "metadata": {},
   "outputs": [],
   "source": [
    "data_2['type'] = 'sport'"
   ]
  },
  {
   "cell_type": "code",
   "execution_count": 17,
   "id": "6eb3fe09-f204-44b5-ab35-2805e791d030",
   "metadata": {},
   "outputs": [],
   "source": [
    "data_3['type'] = 'news'"
   ]
  },
  {
   "cell_type": "code",
   "execution_count": 18,
   "id": "8684c1d2-6ce7-46c5-8fe0-603dd4d09359",
   "metadata": {},
   "outputs": [],
   "source": [
    "data_4['type'] = 'paty'"
   ]
  },
  {
   "cell_type": "code",
   "execution_count": 32,
   "id": "af2c8e5b-c507-46b3-9596-17887d80bdc3",
   "metadata": {},
   "outputs": [],
   "source": [
    "data_5['type'] = 'fotbal'"
   ]
  },
  {
   "cell_type": "code",
   "execution_count": 33,
   "id": "58967458-f621-4811-8f5e-1b0b9f183809",
   "metadata": {},
   "outputs": [],
   "source": [
    "data_6['type'] = 'humor'"
   ]
  },
  {
   "cell_type": "code",
   "execution_count": 34,
   "id": "7bc4240d-53b6-44b6-b3b4-9befc13e457d",
   "metadata": {},
   "outputs": [],
   "source": [
    "data_all = pd.concat([data_1, data_2, data_3, data_4, data_5, data_6], axis=0, join='outer', ignore_index=True)"
   ]
  },
  {
   "cell_type": "code",
   "execution_count": 35,
   "id": "533e9aba-96ba-4241-9385-bf4caa0f08d6",
   "metadata": {},
   "outputs": [
    {
     "data": {
      "text/html": [
       "<div>\n",
       "<style scoped>\n",
       "    .dataframe tbody tr th:only-of-type {\n",
       "        vertical-align: middle;\n",
       "    }\n",
       "\n",
       "    .dataframe tbody tr th {\n",
       "        vertical-align: top;\n",
       "    }\n",
       "\n",
       "    .dataframe thead th {\n",
       "        text-align: right;\n",
       "    }\n",
       "</style>\n",
       "<table border=\"1\" class=\"dataframe\">\n",
       "  <thead>\n",
       "    <tr style=\"text-align: right;\">\n",
       "      <th></th>\n",
       "      <th>doc_text</th>\n",
       "      <th>image2text</th>\n",
       "      <th>speech2text</th>\n",
       "      <th>type</th>\n",
       "    </tr>\n",
       "  </thead>\n",
       "  <tbody>\n",
       "    <tr>\n",
       "      <th>0</th>\n",
       "      <td>Твой лучший секс спрятан здесь 🔞  Делюсь канал...</td>\n",
       "      <td>NaN</td>\n",
       "      <td>NaN</td>\n",
       "      <td>spam</td>\n",
       "    </tr>\n",
       "    <tr>\n",
       "      <th>1</th>\n",
       "      <td>⭐️  Кнопка: ⭐️START⭐️(https://t.me/major/start...</td>\n",
       "      <td>NaN</td>\n",
       "      <td>NaN</td>\n",
       "      <td>spam</td>\n",
       "    </tr>\n",
       "    <tr>\n",
       "      <th>2</th>\n",
       "      <td>А продолжение где? Правильно. В моем сообществ...</td>\n",
       "      <td>девчонки не умеют переписываться sanille они э...</td>\n",
       "      <td>NaN</td>\n",
       "      <td>spam</td>\n",
       "    </tr>\n",
       "    <tr>\n",
       "      <th>3</th>\n",
       "      <td>Тем временем моя авторская телега уверенно в т...</td>\n",
       "      <td>10:42 nuil пул telegram ^ 51 142 подписчика 12...</td>\n",
       "      <td>NaN</td>\n",
       "      <td>spam</td>\n",
       "    </tr>\n",
       "    <tr>\n",
       "      <th>4</th>\n",
       "      <td>У меня есть двоюродная сестра, у нее есть сын ...</td>\n",
       "      <td>т с не ^ е z 8 * \\\"8 ничего не знала о стендап...</td>\n",
       "      <td>NaN</td>\n",
       "      <td>spam</td>\n",
       "    </tr>\n",
       "  </tbody>\n",
       "</table>\n",
       "</div>"
      ],
      "text/plain": [
       "                                            doc_text  \\\n",
       "0  Твой лучший секс спрятан здесь 🔞  Делюсь канал...   \n",
       "1  ⭐️  Кнопка: ⭐️START⭐️(https://t.me/major/start...   \n",
       "2  А продолжение где? Правильно. В моем сообществ...   \n",
       "3  Тем временем моя авторская телега уверенно в т...   \n",
       "4  У меня есть двоюродная сестра, у нее есть сын ...   \n",
       "\n",
       "                                          image2text speech2text  type  \n",
       "0                                                NaN         NaN  spam  \n",
       "1                                                NaN         NaN  spam  \n",
       "2  девчонки не умеют переписываться sanille они э...         NaN  spam  \n",
       "3  10:42 nuil пул telegram ^ 51 142 подписчика 12...         NaN  spam  \n",
       "4  т с не ^ е z 8 * \\\"8 ничего не знала о стендап...         NaN  spam  "
      ]
     },
     "execution_count": 35,
     "metadata": {},
     "output_type": "execute_result"
    }
   ],
   "source": [
    "data_all.head()"
   ]
  },
  {
   "cell_type": "code",
   "execution_count": 36,
   "id": "eed00931-9486-4809-b298-6e3d190396de",
   "metadata": {},
   "outputs": [
    {
     "name": "stdout",
     "output_type": "stream",
     "text": [
      "<class 'pandas.core.frame.DataFrame'>\n",
      "RangeIndex: 6000 entries, 0 to 5999\n",
      "Data columns (total 4 columns):\n",
      " #   Column       Non-Null Count  Dtype \n",
      "---  ------       --------------  ----- \n",
      " 0   doc_text     6000 non-null   object\n",
      " 1   image2text   3420 non-null   object\n",
      " 2   speech2text  1871 non-null   object\n",
      " 3   type         6000 non-null   object\n",
      "dtypes: object(4)\n",
      "memory usage: 187.6+ KB\n"
     ]
    }
   ],
   "source": [
    "data_all.info()"
   ]
  },
  {
   "cell_type": "code",
   "execution_count": 37,
   "id": "46f77e34-1fe8-488e-a194-7f5e88aed42d",
   "metadata": {},
   "outputs": [
    {
     "data": {
      "text/plain": [
       "doc_text          0\n",
       "image2text     2580\n",
       "speech2text    4129\n",
       "type              0\n",
       "dtype: int64"
      ]
     },
     "execution_count": 37,
     "metadata": {},
     "output_type": "execute_result"
    }
   ],
   "source": [
    "data_all.isnull().sum()"
   ]
  },
  {
   "cell_type": "code",
   "execution_count": 38,
   "id": "26cf00fe-82ac-4c3b-90f4-f51e246c9507",
   "metadata": {},
   "outputs": [
    {
     "data": {
      "text/plain": [
       "array(['spam', 'sport', 'news', 'paty', 'fotbal', 'humor'], dtype=object)"
      ]
     },
     "execution_count": 38,
     "metadata": {},
     "output_type": "execute_result"
    }
   ],
   "source": [
    "data_all['type'].unique()"
   ]
  },
  {
   "cell_type": "code",
   "execution_count": null,
   "id": "04d167d4-9192-4403-94de-5e519d6d4ca7",
   "metadata": {},
   "outputs": [],
   "source": []
  }
 ],
 "metadata": {
  "kernelspec": {
   "display_name": "Python 3 (ipykernel)",
   "language": "python",
   "name": "python3"
  },
  "language_info": {
   "codemirror_mode": {
    "name": "ipython",
    "version": 3
   },
   "file_extension": ".py",
   "mimetype": "text/x-python",
   "name": "python",
   "nbconvert_exporter": "python",
   "pygments_lexer": "ipython3",
   "version": "3.9.15"
  }
 },
 "nbformat": 4,
 "nbformat_minor": 5
}
